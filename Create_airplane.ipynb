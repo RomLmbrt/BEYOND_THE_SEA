{
 "cells": [
  {
   "cell_type": "markdown",
   "metadata": {},
   "source": [
    "## Create the Full 3D Airplane"
   ]
  },
  {
   "cell_type": "markdown",
   "metadata": {},
   "source": [
    "Import"
   ]
  },
  {
   "cell_type": "code",
   "execution_count": 15,
   "metadata": {},
   "outputs": [],
   "source": [
    "import itertools\n",
    "import os\n",
    "import xml.etree.ElementTree as ET\n",
    "from typing import List, Union\n",
    "\n",
    "import aerosandbox as asb\n",
    "import aerosandbox.numpy as np\n",
    "import pandas as pd\n",
    "from aerosandbox.geometry import Airfoil, Airplane, Wing, WingXSec\n",
    "from scipy.linalg import expm, norm"
   ]
  },
  {
   "cell_type": "markdown",
   "metadata": {},
   "source": [
    "Function Rotate"
   ]
  },
  {
   "cell_type": "code",
   "execution_count": 16,
   "metadata": {},
   "outputs": [],
   "source": [
    "def rotate_pt(orign_pt, theta_deg, axis=[0, 1, 0]):\n",
    "    theta = np.radians(theta_deg)\n",
    "    M0 = expm(np.cross(np.eye(3), axis / norm(axis) * theta))\n",
    "    return np.dot(M0, orign_pt)"
   ]
  },
  {
   "cell_type": "markdown",
   "metadata": {},
   "source": [
    "Function to create an Airplane"
   ]
  },
  {
   "cell_type": "code",
   "execution_count": 17,
   "metadata": {},
   "outputs": [],
   "source": [
    "def Create_airplane_x_sections(\n",
    "    x_le: List,\n",
    "    y_le: List,\n",
    "    z_le: List,\n",
    "    chords: List,\n",
    "    twists: List,\n",
    "    wing_airfoil: Union[asb.Airfoil, List],\n",
    ") -> asb.Airplane:\n",
    "    \"\"\"Create a Aerosandbox Airplane from lists of parameters\n",
    "\n",
    "    Args:\n",
    "        x_le (List),y_le (List),z_le (List):  Coordinates of the XSec's leading edge, relative to the wing's leading edge.\n",
    "        chords (List): section chord [m]\n",
    "        twists (List): airfoil angle  [deg]\n",
    "        wing_airfoil (str | List): event a single Airfoil or a list of Airfoil\n",
    "\n",
    "    Returns:\n",
    "        asb.Airplane: Aerosandbox Airplane object\n",
    "    \"\"\"\n",
    "\n",
    "    # check if airfoil is an single Airfoil or a list\n",
    "    if type(wing_airfoil) is asb.Airfoil:\n",
    "        list_airfoil = itertools.cycle([wing_airfoil])  # create an object able to cycle\n",
    "    else:  # then the list is passed\n",
    "        list_airfoil = wing_airfoil\n",
    "\n",
    "    wings_list = []\n",
    "    for x_le, y_le, z_le, chord, twist, wing_airfoil in zip(\n",
    "        x_le, y_le, z_le, chords, twists, list_airfoil\n",
    "    ):\n",
    "        wings_list.append(\n",
    "            asb.WingXSec(  # Root\n",
    "                xyz_le=[                    \n",
    "                    x_le,\n",
    "                    y_le,\n",
    "                    z_le,\n",
    "                ],\n",
    "                chord=chord,\n",
    "                twist=twist,\n",
    "                airfoil=wing_airfoil,\n",
    "            )\n",
    "        )\n",
    "    airplane = asb.Airplane(\n",
    "        name=\"MainGlider\",\n",
    "        xyz_ref=[0, 0, 0],\n",
    "        wings=[\n",
    "            asb.Wing(\n",
    "                name=\"Main Wing\", symmetric=True, xsecs=wings_list\n",
    "            ),  # only one wing in Kite/Paraglider\n",
    "        ],\n",
    "    )\n",
    "    return airplane"
   ]
  },
  {
   "cell_type": "markdown",
   "metadata": {},
   "source": [
    "Function to Import from XFLR5 With Airfoil"
   ]
  },
  {
   "cell_type": "code",
   "execution_count": 18,
   "metadata": {},
   "outputs": [],
   "source": [
    "def import_from_xflr5_with_airfoils(\n",
    "    foldername: str,\n",
    "    force_midle: bool = False,\n",
    "    derotate=False,\n",
    "    draw_three_view: bool = False,\n",
    ") -> asb.Airplane:\n",
    "    \"\"\"\n",
    "    Imports a folder with an XFLR5 `.xml` file and `.dat` airfoil section files and returns an Aerosandbox airplane geometry.\n",
    "\n",
    "    Args:\n",
    "        foldername (str): The foldername of the XFLR5 `.xml` file and `.dat` airfoil section files.\n",
    "        force_midle (bool): Froce rib 0 and 1 with diadral 0  , default = False\n",
    "        draw_three_view (bool): draw the 3d view, default = False\n",
    "    Returns:\n",
    "        An Aerosandbox Airplane object.\n",
    "    \"\"\"\n",
    "    # Gets all files in the folder\n",
    "    filenames = [\n",
    "        os.path.join(foldername, f)\n",
    "        for f in os.listdir(foldername)\n",
    "        if os.path.isfile(os.path.join(foldername, f))\n",
    "    ]\n",
    "\n",
    "    # Find and pop the '.xml' file\n",
    "    tree = 0  # In case there is no '.xml' file\n",
    "    for i in range(len(filenames)):\n",
    "        if \".xml\" in filenames[i]:\n",
    "            tree = ET.parse(filenames.pop(i))\n",
    "            root = tree.getroot()\n",
    "            break\n",
    "    if tree == 0:  # Return an error\n",
    "        print(\"the '.xml' file is missing\")\n",
    "        return ()\n",
    "\n",
    "    # Extract airplane name\n",
    "    airplane_name = root.find(\"Plane/Name\").text\n",
    "\n",
    "    # Extract main wing data\n",
    "    wing_elements = root.findall(\"Plane/wing\")\n",
    "    mainwing_element = wing_elements[0]\n",
    "    mainwing_name = mainwing_element.find(\"Name\").text\n",
    "    mainwing_type = mainwing_element.find(\"Type\").text\n",
    "    mainwing_position = [\n",
    "        float(x) for x in mainwing_element.find(\"Position\").text.split(\",\")\n",
    "    ]\n",
    "    mainwing_symmetric = mainwing_element.find(\"Symetric\").text\n",
    "    mainwing_is_fin = mainwing_element.find(\"isFin\").text\n",
    "    mainwing_xsecs = []\n",
    "\n",
    "    sections_element = mainwing_element.find(\"Sections\")\n",
    "    section_elements = sections_element.findall(\"Section\")\n",
    "    list_section = []\n",
    "    for section_element in section_elements:\n",
    "        xOffset = float(section_element.find(\"xOffset\").text)\n",
    "        y_position = float(section_element.find(\"y_position\").text)\n",
    "        dihedral = float(section_element.find(\"Dihedral\").text)\n",
    "        chord = float(section_element.find(\"Chord\").text)\n",
    "        twist = float(section_element.find(\"Twist\").text)\n",
    "        airfoil_name = section_element.find(\"Left_Side_FoilName\").text\n",
    "\n",
    "        element = {\n",
    "            \"xOffset\": xOffset,\n",
    "            \"y_position\": y_position,\n",
    "            \"dihedral\": dihedral,\n",
    "            \"chord\": chord,\n",
    "            \"twist\": twist,\n",
    "            \"airfoil_name\": airfoil_name,\n",
    "        }\n",
    "        list_section.append(element)\n",
    "\n",
    "    df_section = pd.DataFrame.from_dict(list_section)\n",
    "\n",
    "    if force_midle:\n",
    "        print(\"Rib 0 and 1 will be force to 0 diedral\")\n",
    "        df_section.at[0, \"dihedral\"] = 0\n",
    "        df_section.at[1, \"dihedral\"] = 0\n",
    "\n",
    "    df_section[\"diff_y\"] = df_section[\"y_position\"].diff().fillna(0)\n",
    "    df_section[\"z_step\"] = (\n",
    "        np.tan(np.radians(df_section[\"dihedral\"])) * df_section[\"diff_y\"]\n",
    "    )\n",
    "\n",
    "    df_section[\"z\"] = df_section[\"z_step\"].cumsum()\n",
    "\n",
    "    df_section[\"LE_point_raw\"] = df_section[\n",
    "        [\"xOffset\", \"y_position\", \"z\"]\n",
    "    ].values.tolist()\n",
    "\n",
    "    if derotate:\n",
    "        angle_derotate = df_section[\"twist\"][0]\n",
    "        print(f\"The glider will be derotate by {angle_derotate}\")\n",
    "\n",
    "        df_section[\"LE_point\"] = df_section[\"LE_point_raw\"].apply(\n",
    "            rotate_pt, theta_deg=1\n",
    "        )\n",
    "        df_section[\"twist\"] = df_section[\"twist\"] - angle_derotate\n",
    "    else:\n",
    "        df_section[\"LE_point\"] = df_section[\"LE_point_raw\"]\n",
    "\n",
    "    for i, row in df_section.iterrows():\n",
    "        airfoil = 0  # In case of a missing airfoil file\n",
    "        for airfoilname in filenames:\n",
    "            if row[\"airfoil_name\"] in airfoilname:\n",
    "                airfoil = Airfoil(coordinates=airfoilname)\n",
    "        if airfoil == 0:  # Return an error\n",
    "            print(\"airfoil %s is missing in the folder\" % row[\"airfoil_name\"])\n",
    "            return ()\n",
    "\n",
    "        xsec = WingXSec(\n",
    "            xyz_le=row[\"LE_point\"],\n",
    "            chord=row[\"chord\"],\n",
    "            twist=row[\"twist\"],\n",
    "            airfoil=airfoil,\n",
    "        )\n",
    "\n",
    "        mainwing_xsecs.append(xsec)\n",
    "\n",
    "    mainwing = Wing(\n",
    "        name=mainwing_name,\n",
    "        xsecs=mainwing_xsecs,\n",
    "        symmetric=(mainwing_symmetric == \"true\"),\n",
    "        is_main_wing=(mainwing_type == \"MAINWING\"),\n",
    "        is_horizontal_stabilizer=(mainwing_type == \"HORIZONTAL_STABILIZER\"),\n",
    "        is_vertical_stabilizer=(mainwing_type == \"VERTICAL_STABILIZER\"),\n",
    "        is_fuselage=(mainwing_type == \"FUSELAGE\"),\n",
    "    )\n",
    "\n",
    "    airplane = Airplane(\n",
    "        name=airplane_name,\n",
    "        xyz_ref=mainwing_position,\n",
    "        wings=[mainwing],\n",
    "    )\n",
    "\n",
    "    # Draw the 3d view\n",
    "    if draw_three_view:\n",
    "        airplane.draw_three_view()\n",
    "\n",
    "    return airplane  # , df_section"
   ]
  },
  {
   "cell_type": "markdown",
   "metadata": {},
   "source": [
    "The Main"
   ]
  },
  {
   "cell_type": "code",
   "execution_count": 19,
   "metadata": {},
   "outputs": [
    {
     "name": "stdout",
     "output_type": "stream",
     "text": [
      "C:\\Users\\RomainLambert\\AppData\\Local\\Programs\\Microsoft_VS_Code\\xflr5_file\\Enzo3\n"
     ]
    }
   ],
   "source": [
    "folder_to_load = os.path.join(os.getcwd(), \"xflr5_file\",\"Enzo3\")\n",
    "print(folder_to_load)"
   ]
  },
  {
   "cell_type": "code",
   "execution_count": 20,
   "metadata": {},
   "outputs": [
    {
     "name": "stdout",
     "output_type": "stream",
     "text": [
      "C:\\Users\\RomainLambert\\AppData\\Local\\Programs\\Microsoft_VS_Code\\xflr5_file\\Enzo3\n"
     ]
    },
    {
     "ename": "FileNotFoundError",
     "evalue": "[WinError 3] Le chemin d’accès spécifié est introuvable: 'C:\\\\Users\\\\RomainLambert\\\\AppData\\\\Local\\\\Programs\\\\Microsoft_VS_Code\\\\xflr5_file\\\\Enzo3'",
     "output_type": "error",
     "traceback": [
      "\u001b[1;31m---------------------------------------------------------------------------\u001b[0m",
      "\u001b[1;31mFileNotFoundError\u001b[0m                         Traceback (most recent call last)",
      "Cell \u001b[1;32mIn[20], line 6\u001b[0m\n\u001b[0;32m      4\u001b[0m folder_to_load \u001b[38;5;241m=\u001b[39m os\u001b[38;5;241m.\u001b[39mpath\u001b[38;5;241m.\u001b[39mjoin(os\u001b[38;5;241m.\u001b[39mgetcwd(), \u001b[38;5;124m\"\u001b[39m\u001b[38;5;124mxflr5_file\u001b[39m\u001b[38;5;124m\"\u001b[39m, foldername)\n\u001b[0;32m      5\u001b[0m \u001b[38;5;28mprint\u001b[39m(folder_to_load)\n\u001b[1;32m----> 6\u001b[0m airplane \u001b[38;5;241m=\u001b[39m \u001b[43mimport_from_xflr5_with_airfoils\u001b[49m\u001b[43m(\u001b[49m\n\u001b[0;32m      7\u001b[0m \u001b[43m    \u001b[49m\u001b[43mfolder_to_load\u001b[49m\u001b[43m,\u001b[49m\u001b[43m \u001b[49m\u001b[43mforce_midle\u001b[49m\u001b[38;5;241;43m=\u001b[39;49m\u001b[38;5;28;43;01mTrue\u001b[39;49;00m\u001b[43m,\u001b[49m\u001b[43m \u001b[49m\u001b[43mderotate\u001b[49m\u001b[38;5;241;43m=\u001b[39;49m\u001b[38;5;28;43;01mFalse\u001b[39;49;00m\u001b[43m,\u001b[49m\u001b[43m \u001b[49m\u001b[43mdraw_three_view\u001b[49m\u001b[38;5;241;43m=\u001b[39;49m\u001b[38;5;28;43;01mTrue\u001b[39;49;00m\u001b[43m,\u001b[49m\n\u001b[0;32m      8\u001b[0m \u001b[43m\u001b[49m\u001b[43m)\u001b[49m\n",
      "Cell \u001b[1;32mIn[18], line 20\u001b[0m, in \u001b[0;36mimport_from_xflr5_with_airfoils\u001b[1;34m(foldername, force_midle, derotate, draw_three_view)\u001b[0m\n\u001b[0;32m      7\u001b[0m \u001b[38;5;250m\u001b[39m\u001b[38;5;124;03m\"\"\"\u001b[39;00m\n\u001b[0;32m      8\u001b[0m \u001b[38;5;124;03mImports a folder with an XFLR5 `.xml` file and `.dat` airfoil section files and returns an Aerosandbox airplane geometry.\u001b[39;00m\n\u001b[0;32m      9\u001b[0m \n\u001b[1;32m   (...)\u001b[0m\n\u001b[0;32m     15\u001b[0m \u001b[38;5;124;03m    An Aerosandbox Airplane object.\u001b[39;00m\n\u001b[0;32m     16\u001b[0m \u001b[38;5;124;03m\"\"\"\u001b[39;00m\n\u001b[0;32m     17\u001b[0m \u001b[38;5;66;03m# Gets all files in the folder\u001b[39;00m\n\u001b[0;32m     18\u001b[0m filenames \u001b[38;5;241m=\u001b[39m [\n\u001b[0;32m     19\u001b[0m     os\u001b[38;5;241m.\u001b[39mpath\u001b[38;5;241m.\u001b[39mjoin(foldername, f)\n\u001b[1;32m---> 20\u001b[0m     \u001b[38;5;28;01mfor\u001b[39;00m f \u001b[38;5;129;01min\u001b[39;00m \u001b[43mos\u001b[49m\u001b[38;5;241;43m.\u001b[39;49m\u001b[43mlistdir\u001b[49m\u001b[43m(\u001b[49m\u001b[43mfoldername\u001b[49m\u001b[43m)\u001b[49m\n\u001b[0;32m     21\u001b[0m     \u001b[38;5;28;01mif\u001b[39;00m os\u001b[38;5;241m.\u001b[39mpath\u001b[38;5;241m.\u001b[39misfile(os\u001b[38;5;241m.\u001b[39mpath\u001b[38;5;241m.\u001b[39mjoin(foldername, f))\n\u001b[0;32m     22\u001b[0m ]\n\u001b[0;32m     24\u001b[0m \u001b[38;5;66;03m# Find and pop the '.xml' file\u001b[39;00m\n\u001b[0;32m     25\u001b[0m tree \u001b[38;5;241m=\u001b[39m \u001b[38;5;241m0\u001b[39m  \u001b[38;5;66;03m# In case there is no '.xml' file\u001b[39;00m\n",
      "\u001b[1;31mFileNotFoundError\u001b[0m: [WinError 3] Le chemin d’accès spécifié est introuvable: 'C:\\\\Users\\\\RomainLambert\\\\AppData\\\\Local\\\\Programs\\\\Microsoft_VS_Code\\\\xflr5_file\\\\Enzo3'"
     ]
    }
   ],
   "source": [
    "if __name__ == \"__main__\":\n",
    "    foldername = \"Enzo3\"\n",
    "\n",
    "    folder_to_load = os.path.join(os.getcwd(), \"xflr5_file\", foldername)\n",
    "    print(folder_to_load)\n",
    "    airplane = import_from_xflr5_with_airfoils(\n",
    "        folder_to_load, force_midle=True, derotate=False, draw_three_view=True,\n",
    "    )"
   ]
  }
 ],
 "metadata": {
  "kernelspec": {
   "display_name": "Python 3",
   "language": "python",
   "name": "python3"
  },
  "language_info": {
   "codemirror_mode": {
    "name": "ipython",
    "version": 3
   },
   "file_extension": ".py",
   "mimetype": "text/x-python",
   "name": "python",
   "nbconvert_exporter": "python",
   "pygments_lexer": "ipython3",
   "version": "3.12.5"
  }
 },
 "nbformat": 4,
 "nbformat_minor": 2
}
