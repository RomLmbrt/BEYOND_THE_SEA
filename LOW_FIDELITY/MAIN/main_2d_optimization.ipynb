{
 "cells": [
  {
   "cell_type": "markdown",
   "metadata": {},
   "source": [
    "# 2D optimisation using the aerosandbox library (based on Xfoil theory)\n",
    "\n",
    "This notebook demonstrates the process of setting up and running 2D optimization using the `Aerosandbox` Python library. We'll cover the following steps:\n",
    "1. Extract the data\n",
    "2. Set up the parameters\n",
    "3. Set up and run the optimization\n",
    "4. Plot the results\n",
    "\n",
    "Note that the most important is hinges on the constraints and objective function"
   ]
  },
  {
   "cell_type": "markdown",
   "metadata": {},
   "source": [
    "## Import"
   ]
  },
  {
   "cell_type": "code",
   "execution_count": 36,
   "metadata": {},
   "outputs": [],
   "source": [
    "import os\n",
    "from datetime import datetime\n",
    "from time import time\n",
    "\n",
    "import pandas as pd\n",
    "import seaborn as sns\n",
    "\n",
    "import matplotlib.pyplot as plt\n",
    "import aerosandbox.tools.pretty_plots as p\n",
    "\n",
    "import casadi as ca\n",
    "import aerosandbox as asb\n",
    "import aerosandbox.numpy as np\n",
    "from aerosandbox.tools.pretty_plots import plt, show_plot, set_ticks  # sets some nice defaults"
   ]
  },
  {
   "cell_type": "markdown",
   "metadata": {},
   "source": [
    "## 1. Extract the `.dat` airfoil data"
   ]
  },
  {
   "cell_type": "code",
   "execution_count": 44,
   "metadata": {},
   "outputs": [
    {
     "name": "stdout",
     "output_type": "stream",
     "text": [
      "data extracted from : prof_1 copy.dat\n",
      "\n",
      "________\n",
      "\n"
     ]
    }
   ],
   "source": [
    "# %% Import airfoil from .dat file\n",
    "file_name = \"prof_1 copy.dat\"\n",
    "\n",
    "airfoil = asb.Airfoil(coordinates = (os.path.join(os.getcwd(), \"data\", \"BEYOND_THE_SEA\", \"profiles\", file_name)))\n",
    "\n",
    "# airfoil.upper_coordinates()[:,1] *= 2\n",
    "kulfan_airfoil = airfoil.to_kulfan_airfoil()\n",
    "\n",
    "print(f'data extracted from : {file_name}\\n')\n",
    "print(\"________\\n\")\n"
   ]
  }
 ],
 "metadata": {
  "kernelspec": {
   "display_name": "Python 3",
   "language": "python",
   "name": "python3"
  },
  "language_info": {
   "codemirror_mode": {
    "name": "ipython",
    "version": 3
   },
   "file_extension": ".py",
   "mimetype": "text/x-python",
   "name": "python",
   "nbconvert_exporter": "python",
   "pygments_lexer": "ipython3",
   "version": "3.12.5"
  }
 },
 "nbformat": 4,
 "nbformat_minor": 2
}
