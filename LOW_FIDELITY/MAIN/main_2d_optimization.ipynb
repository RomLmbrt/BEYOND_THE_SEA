{
 "cells": [
  {
   "cell_type": "markdown",
   "metadata": {},
   "source": [
    "# 2D optimisation using aerosandbox library (based on Xfoil theory)\n",
    "\n",
    "This notebook demonstrates the process of setting up and running 2D optimization using the Aerosandbox Python library. We'll cover the following steps:"
   ]
  },
  {
   "cell_type": "code",
   "execution_count": null,
   "metadata": {},
   "outputs": [],
   "source": [
    "import os\n",
    "from datetime import datetime\n",
    "from time import time\n",
    "\n",
    "import pandas as pd\n",
    "import seaborn as sns\n",
    "\n",
    "import matplotlib.pyplot as plt\n",
    "import aerosandbox.tools.pretty_plots as p\n",
    "\n",
    "import casadi as ca\n",
    "import aerosandbox as asb\n",
    "import aerosandbox.numpy as np\n",
    "from aerosandbox.tools.pretty_plots import plt, show_plot, set_ticks  # sets some nice defaults"
   ]
  },
  {
   "cell_type": "code",
   "execution_count": null,
   "metadata": {},
   "outputs": [],
   "source": [
    "# %% Import airfoil from .dat file\n",
    "file_name = \"Action-new April15.dat\"\n",
    "\n",
    "airfoil = asb.Airfoil(coordinates = (os.path.join(os.getcwd(), \"Airfoils\", file_name)))\n",
    "kulfan_airfoil = airfoil.to_kulfan_airfoil()\n",
    "\n",
    "#  %% For stability limit\n",
    "limit_file_name = \"Limit stability.dat\"\n",
    "airfoil_limit = asb.Airfoil(coordinates = (os.path.join(os.getcwd(), \"Airfoils\", limit_file_name)))\n",
    "kulfan_airfoil_limit = airfoil_limit.to_kulfan_airfoil()\n",
    "\n",
    "print(f'data extracted from : {file_name}\\n')\n",
    "print(\"________\\n\")"
   ]
  }
 ],
 "metadata": {
  "language_info": {
   "name": "python"
  }
 },
 "nbformat": 4,
 "nbformat_minor": 2
}
