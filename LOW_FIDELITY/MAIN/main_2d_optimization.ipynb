{
 "cells": [
  {
   "cell_type": "markdown",
   "metadata": {},
   "source": [
    "# 2D optimisation using aerosandbox library (based on Xfoil theory)\n",
    "\n",
    "This notebook demonstrates the process of setting up and running 2D optimization using the Aerosandbox Python library. We'll cover the following steps:"
   ]
  },
  {
   "cell_type": "code",
   "execution_count": null,
   "metadata": {},
   "outputs": [],
   "source": [
    "import os\n",
    "from datetime import datetime\n",
    "from time import time\n",
    "\n",
    "import pandas as pd\n",
    "import seaborn as sns\n",
    "\n",
    "import matplotlib.pyplot as plt\n",
    "import aerosandbox.tools.pretty_plots as p\n",
    "\n",
    "import casadi as ca\n",
    "import aerosandbox as asb\n",
    "import aerosandbox.numpy as np\n",
    "from aerosandbox.tools.pretty_plots import plt, show_plot, set_ticks  # sets some nice defaults"
   ]
  }
 ],
 "metadata": {
  "language_info": {
   "name": "python"
  }
 },
 "nbformat": 4,
 "nbformat_minor": 2
}
