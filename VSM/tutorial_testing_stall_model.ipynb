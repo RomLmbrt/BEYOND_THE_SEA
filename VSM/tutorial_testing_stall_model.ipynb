{
 "cells": [
  {
   "cell_type": "markdown",
   "metadata": {},
   "source": [
    "# Wing Aerodynamics Analysis using Vortex-Step Method (VSM) on a LEI Kite\n",
    "This notebook demonstrates the process of setting up and analyzing a wing's aerodynamics using VSM on a LEI Kite. We'll cover the following steps:\n",
    "1. Setting up the environment and importing necessary libraries.\n",
    "2. Creating a wing object and adding sections to define the geometry from a CSV file.\n",
    "3. Initializing the wing aerodynamics and set the inflow conditions.\n",
    "4. Plotting "
   ]
  },
  {
   "cell_type": "markdown",
   "metadata": {},
   "source": [
    "## 1. Import necessary libraries\n",
    "In this step, we import the necessary libraries for the aerodynamic analysis. We use:\n",
    "- `numpy` for numerical operations.\n",
    "- The `VSM` module for the aerodynamic modelling\n",
    "\n",
    "Make sure the `VSM` module is properly installed in your (virtual) environment, by running the cmd: `pip install -e .` from the root-directory of this project"
   ]
  },
  {
   "cell_type": "code",
   "execution_count": 7,
   "metadata": {},
   "outputs": [],
   "source": [
    "import numpy as np\n",
    "import logging\n",
    "import matplotlib.pyplot as plt\n",
    "import pickle\n",
    "import os\n",
    "from pathlib import Path\n",
    "from VSM.WingGeometry import Wing\n",
    "from VSM.WingAerodynamics import WingAerodynamics\n",
    "from VSM.Solver import Solver\n",
    "from VSM.plotting import plot_polars, plot_distribution, plot_geometry"
   ]
  },
  {
   "cell_type": "markdown",
   "metadata": {},
   "source": [
    "## 2. Creating a wing object and adding sections to define the geometry from a CSV file."
   ]
  },
  {
   "cell_type": "code",
   "execution_count": 8,
   "metadata": {},
   "outputs": [],
   "source": [
    "# Find the root directory of the repository\n",
    "root_dir = os.getcwd()\n",
    "while not os.path.isfile(os.path.join(root_dir, \".gitignore\")):\n",
    "    root_dir = os.path.abspath(os.path.join(root_dir, \"..\"))\n",
    "    if root_dir == \"/\":\n",
    "        raise FileNotFoundError(\"Could not find the root directory of the repository.\")\n",
    "save_folder = Path(root_dir) / \"results\" / \"TUDELFT_V3_LEI_KITE\"\n",
    "\n",
    "# Defining discretisation\n",
    "n_panels = 54\n",
    "spanwise_panel_distribution = \"split_provided\"\n",
    "\n",
    "### rib_list_from_CAD_LE_TE_and_surfplan_d_tube_camber_19ribs\n",
    "csv_file_path = (\n",
    "    Path(root_dir)\n",
    "    / \"processed_data\"\n",
    "    / \"TUDELFT_V3_LEI_KITE\"\n",
    "    / \"rib_list_from_CAD_LE_TE_and_surfplan_d_tube_camber_19ribs.csv\"\n",
    ")\n",
    "(\n",
    "    LE_x_array,\n",
    "    LE_y_array,\n",
    "    LE_z_array,\n",
    "    TE_x_array,\n",
    "    TE_y_array,\n",
    "    TE_z_array,\n",
    "    d_tube_array,\n",
    "    camber_array,\n",
    ") = np.loadtxt(csv_file_path, delimiter=\",\", skiprows=1, unpack=True)\n",
    "rib_list_from_CAD_LE_TE_and_surfplan_d_tube_camber_19ribs = []\n",
    "for i in range(len(LE_x_array)):\n",
    "    LE = np.array([LE_x_array[i], LE_y_array[i], LE_z_array[i]])\n",
    "    TE = np.array([TE_x_array[i], TE_y_array[i], TE_z_array[i]])\n",
    "    rib_list_from_CAD_LE_TE_and_surfplan_d_tube_camber_19ribs.append(\n",
    "        [LE, TE, [\"lei_airfoil_breukels\", [d_tube_array[i], camber_array[i]]]]\n",
    "    )\n",
    "CAD_wing = Wing(n_panels, spanwise_panel_distribution)\n",
    "\n",
    "for i, CAD_rib_i in enumerate(\n",
    "    rib_list_from_CAD_LE_TE_and_surfplan_d_tube_camber_19ribs\n",
    "):\n",
    "    CAD_wing.add_section(CAD_rib_i[0], CAD_rib_i[1], CAD_rib_i[2])\n",
    "wing_aero_CAD_19ribs = WingAerodynamics([CAD_wing])\n",
    "\n",
    "\n"
   ]
  },
  {
   "cell_type": "markdown",
   "metadata": {},
   "source": [
    "## 3. Initializing the wing aerodynamics and set the inflow conditions."
   ]
  },
  {
   "cell_type": "code",
   "execution_count": 9,
   "metadata": {},
   "outputs": [],
   "source": [
    "# Solvers\n",
    "VSM = Solver(\n",
    "    aerodynamic_model_type=\"VSM\",\n",
    "    is_with_artificial_damping=False,\n",
    ")\n",
    "VSM_with_stall_correction = Solver(\n",
    "    aerodynamic_model_type=\"VSM\",\n",
    "    is_with_artificial_damping=True,\n",
    ")\n",
    "\n",
    "# setting va\n",
    "Umag = 15\n",
    "aoa = 17\n",
    "side_slip = 0\n",
    "yaw_rate = 0\n",
    "aoa_rad = np.deg2rad(aoa)\n",
    "vel_app = (\n",
    "    np.array(\n",
    "        [\n",
    "            np.cos(aoa_rad) * np.cos(side_slip),\n",
    "            np.sin(side_slip),\n",
    "            np.sin(aoa_rad),\n",
    "        ]\n",
    "    )\n",
    "    * Umag\n",
    ")\n",
    "wing_aero_CAD_19ribs.va = (vel_app, yaw_rate)"
   ]
  },
  {
   "cell_type": "markdown",
   "metadata": {},
   "source": [
    "## 4. Plotting "
   ]
  },
  {
   "cell_type": "code",
   "execution_count": 10,
   "metadata": {},
   "outputs": [],
   "source": [
    "## Plotting\n",
    "plot_geometry(\n",
    "    wing_aero_CAD_19ribs,\n",
    "    title=\" \",\n",
    "    data_type=\".svg\",\n",
    "    save_path=\" \",\n",
    "    is_save=False,\n",
    "    is_show=True,\n",
    "    view_elevation=15,\n",
    "    view_azimuth=-120,\n",
    ")\n",
    "\n",
    "### plotting distributions\n",
    "results = VSM.solve(wing_aero_CAD_19ribs)\n",
    "results_with_stall_correction = VSM_with_stall_correction.solve(wing_aero_CAD_19ribs)\n",
    "CAD_y_coordinates = [\n",
    "    panels.aerodynamic_center[1] for panels in wing_aero_CAD_19ribs.panels\n",
    "]\n",
    "plot_distribution(\n",
    "    y_coordinates_list=[CAD_y_coordinates, CAD_y_coordinates],\n",
    "    results_list=[results, results_with_stall_correction],\n",
    "    label_list=[\"VSM\", \"VSM with stall correction\"],\n",
    "    title=f\"CAD_spanwise_distributions_alpha_{aoa:.1f}_beta_{side_slip:.1f}_yaw_{yaw_rate:.1f}_Umag_{Umag:.1f}\",\n",
    "    data_type=\".pdf\",\n",
    "    save_path=Path(save_folder) / \"spanwise_distributions\",\n",
    "    is_save=False,\n",
    "    is_show=True,\n",
    ")\n",
    "\n",
    "### plotting polar\n",
    "save_path = Path(root_dir) / \"results\" / \"TUD_V3_LEI_KITE\"\n",
    "path_cfd_lebesque = (\n",
    "    Path(root_dir)\n",
    "    / \"data\"\n",
    "    / \"TUDELFT_V3_LEI_KITE\"\n",
    "    / \"literature_results\"\n",
    "    / \"V3_CL_CD_RANS_Lebesque_2024_Rey_300e4.csv\"\n",
    ")\n",
    "\n",
    "plot_polars(\n",
    "    solver_list=[VSM, VSM_with_stall_correction],\n",
    "    wing_aero_list=[\n",
    "        wing_aero_CAD_19ribs,\n",
    "        wing_aero_CAD_19ribs,\n",
    "    ],\n",
    "    label_list=[\n",
    "        \"VSM CAD 19ribs\",\n",
    "        \"VSM CAD 19ribs , with stall correction\",\n",
    "        \"CFD_Lebesque Rey 30e5\",\n",
    "    ],\n",
    "    literature_path_list=[path_cfd_lebesque],\n",
    "    angle_range=np.linspace(0, 25, 25),\n",
    "    angle_type=\"angle_of_attack\",\n",
    "    angle_of_attack=0,\n",
    "    side_slip=0,\n",
    "    yaw_rate=0,\n",
    "    Umag=10,\n",
    "    title=f\"tutorial_testing_stall_model_n_panels_{int(n_panels):.0f}_distribution_{spanwise_panel_distribution}\",\n",
    "    data_type=\".pdf\",\n",
    "    save_path=Path(save_folder) / \"polars\",\n",
    "    is_save=True,\n",
    "    is_show=True,\n",
    ")\n"
   ]
  }
 ],
 "metadata": {
  "kernelspec": {
   "display_name": "Python 3",
   "language": "python",
   "name": "python3"
  },
  "language_info": {
   "codemirror_mode": {
    "name": "ipython",
    "version": 3
   },
   "file_extension": ".py",
   "mimetype": "text/x-python",
   "name": "python",
   "nbconvert_exporter": "python",
   "pygments_lexer": "ipython3",
   "version": "3.12.5"
  }
 },
 "nbformat": 4,
 "nbformat_minor": 2
}
