{
 "cells": [
  {
   "cell_type": "markdown",
   "metadata": {},
   "source": [
    "# %% Lagragien for Static Balance\n",
    "\n",
    "*Source : Dynamics and Control of np.single-Line Kites - Gonzalo Sanchez-Arrlaga*\n",
    "\n",
    "*Goal : Find the Angle of Attack ($\\alpha$) and the Elevation($\\beta$) in Regard of Wind Speed*"
   ]
  },
  {
   "cell_type": "markdown",
   "metadata": {},
   "source": [
    "# %% Import"
   ]
  },
  {
   "cell_type": "code",
   "execution_count": null,
   "metadata": {},
   "outputs": [],
   "source": [
    "import os\n",
    "import pandas as pd\n",
    "import numpy as np\n",
    "import seaborn as sns\n",
    "import matplotlib.pyplot as plt"
   ]
  },
  {
   "cell_type": "markdown",
   "metadata": {},
   "source": [
    "# %% Data"
   ]
  },
  {
   "cell_type": "code",
   "execution_count": null,
   "metadata": {},
   "outputs": [],
   "source": [
    "# # %% Xfoil Polar \n",
    "polar_data = pd.read_csv(\"polar_SK50VD_modified.csv\") # Same airfoil as 10VB\n",
    "polar = pd.json_normalize({\n",
    "    \"alpha\" : polar_data.alpha,\n",
    "    \"CL\" : polar_data.CL,\n",
    "    \"CD\" : polar_data.CD, \n",
    "    \"CDp\" : polar_data.CDp,\n",
    "    \"CM\" : polar_data.CM,\n",
    "    \"Top_Xtr\" : polar_data.Top_Xtr,\n",
    "    \"Bot_Xtr\" : polar_data.Bot_Xtr,\n",
    "})\n",
    "\n",
    "# # %% Air\n",
    "g = 9.8 \n",
    "rho = 1.225\n",
    "\n",
    "# # %% Kite\n",
    "Surface = 10 # (m2)\n",
    "mass = 5.5 # (kg)\n",
    "height = 2.2 # distance from towpoint to profile (m)\n",
    "corde = 1.99 # (m)\n",
    "Xt = 0.3* corde # towpoint (m)\n",
    "Xg = 0.5 * corde  # mass center (m)\n",
    "delta_deg = 83 # Bridle Angle (°)\n",
    "r = 2.26 # Bridle Length |QG| (m)\n",
    "\n",
    "# %% Calculs \n",
    "polar[\"Xcop\"] = (0.25 - polar[\"CM\"]/polar[\"CL\"])* corde\n",
    "polar[\"Xcp\"] = Xg-polar[\"Xcop\"]\n",
    "polar[\"CN\"] = np.sqrt(polar[\"CL\"]*polar[\"CL\"]+ polar[\"CD\"]*polar[\"CD\"]) \n",
    "\n",
    "delta = delta_deg*np.pi/180 #atan(height / (Xg-Xt))\n",
    "polar[\"sigma\"] = polar[\"Xcp\"] / r "
   ]
  },
  {
   "cell_type": "markdown",
   "metadata": {},
   "source": [
    "# %% Main"
   ]
  },
  {
   "cell_type": "code",
   "execution_count": null,
   "metadata": {},
   "outputs": [],
   "source": [
    "# %% input\n",
    "W0 =5 # Wind speed (m/s)\n",
    "\n",
    "# %% equation 1 \n",
    "beta = rho * Surface * W0^2 / (2 * mass * g)\n",
    "\n",
    "polar[\"np.cos1\"] = np.np.cos(delta - polar[\"alpha\"]*np.pi/180)\n",
    "polar[\"np.cos2\"] = - beta * (polar[\"sigma\"] - np.np.cos(delta))* polar[\"CN\"]\n",
    "\n",
    "polar[\"sum\"] = polar[\"np.cos1\"] + polar[\"np.cos2\"]\n",
    "\n",
    "# %% Alpha\n",
    "ax_alpha_tot = sns.lineplot(data=df, x=\"r.CL\", y=\"alpha_tot\", hue=\"delta_camber\")\n",
    "ax_alpha_tot.set_title(\"alpha_tot(delta_camber) [deg]\")\n",
    "plt.show()\n",
    "\n",
    "plot(polar[\"alpha\"], polar[\"sum\"], '*')\n",
    "xlabel('alpha')\n",
    "ylabel('sum')\n",
    "title('equation1')\n",
    "grid on\n",
    "\n",
    "# %% polar[\"theta\n",
    "\n",
    "polar[\"anp.cos\"] = anp.cos(- beta * (polar[\"sigma\"] - np.cos(delta))*polar[\"CN\"])*180/np.pi\n",
    "polar[\"theta1\"] = delta_deg - polar[\"anp.cos\"]\n",
    "polar[\"theta2\"] = -(delta_deg + polar[\"anp.cos\"] - 180)\n",
    "polar[\"diff1\"] = polar[\"theta1\"] - polar[\"alpha\"]\n",
    "polar[\"diff2 \"]= polar[\"theta2\"] - polar[\"alpha\"]\n",
    "# %% equation 2 \n",
    "\n",
    "polar[\"gamma\"] = atan ((beta * polar[\"CN\"] *np.cos(polar[\"alpha\"]*np.pi/180)-1) ./ (beta * polar[\"CN\"] * np.sin(polar[\"alpha\"]*np.pi/180))  ) *180/np.pi\n",
    "\n",
    "# %% regression de l'élévation en fonction de l'incidence : \n",
    "\n",
    "mdl = fitlm(polar[\"alpha\"], polar[\"gamma\"])\n",
    "\n",
    "figure\n",
    "plot(polar[\"alpha\"], polar[\"gamma\"], '*')\n",
    "hold on\n",
    "plot(polar[\"alpha\"], predict(mdl, polar[\"alpha\"]), 'r')\n",
    "xlabel('alpha')\n",
    "ylabel('gamma')\n",
    "title('regression linéaire')\n",
    "legend('données', 'ligne de regression')\n",
    "\n",
    "\n",
    "# Coefficients du modèle\n",
    "coefficients = mdl.Coefficients.Estimate\n",
    "intercept = coefficients(1)\n",
    "slope = coefficients(2)\n",
    "\n",
    "# R²\n",
    "r_squared = mdl.Rsquared.Ordinary\n",
    "\n",
    "# Afficher les résultats\n",
    "print('Equation: y = #.2f + #.2f*x\\n', intercept, slope)\n",
    "print('R²: #.2f\\n', r_squared)"
   ]
  }
 ],
 "metadata": {
  "language_info": {
   "name": "python"
  }
 },
 "nbformat": 4,
 "nbformat_minor": 2
}
