{
 "cells": [
  {
   "cell_type": "markdown",
   "metadata": {},
   "source": [
    "## Lagragien for Static Balance\n",
    "\n",
    "*Source : Dynamics and Control of np.single-Line Kites - Gonzalo Sanchez-Arrlaga*\n",
    "\n",
    "*Goal : Find the Angle of Attack ($\\alpha$) and the Elevation($\\beta$) in Regard of Wind Speed*"
   ]
  },
  {
   "cell_type": "markdown",
   "metadata": {},
   "source": [
    "## Import"
   ]
  },
  {
   "cell_type": "code",
   "execution_count": 1,
   "metadata": {},
   "outputs": [],
   "source": [
    "import os\n",
    "import pandas as pd\n",
    "import numpy as np\n",
    "import seaborn as sns\n",
    "import matplotlib.pyplot as plt"
   ]
  },
  {
   "cell_type": "markdown",
   "metadata": {},
   "source": [
    "## Data"
   ]
  },
  {
   "cell_type": "code",
   "execution_count": 31,
   "metadata": {},
   "outputs": [],
   "source": [
    "# # %% Xfoil Polar \n",
    "# polar_data = pd.read_csv(os.path.join(os.getcwd(),\"polar_SK50VD.csv\")) # Same airfoil as 10VB\n",
    "polar_data = pd.read_csv(filepath_or_buffer='polar_SK50VD.csv') # Same airfoil as 10VB\n",
    "polar = {\n",
    "    \"alpha\" : polar_data.alpha,\n",
    "    \"CL\" : polar_data.CL,\n",
    "    \"CD\" : polar_data.CD, \n",
    "    \"CDp\" : polar_data.CDp,\n",
    "    \"CM\" : polar_data.CM,\n",
    "    \"Top_Xtr\" : polar_data.Top_Xtr,\n",
    "    \"Bot_Xtr\" : polar_data.Bot_Xtr,\n",
    "}\n",
    "\n",
    "# # %% Air\n",
    "g = 9.8 \n",
    "rho = 1.225\n",
    "\n",
    "# # %% Kite\n",
    "Surface = 10 # (m2)\n",
    "mass = 5.5 # (kg)\n",
    "height = 2.2 # distance from towpoint to profile (m)\n",
    "corde = 1.99 # (m)\n",
    "Xt = 0.3* corde # towpoint (m)\n",
    "Xg = 0.5 * corde  # mass center (m)\n",
    "delta_deg = 83 # Bridle Angle (°)\n",
    "r = 2.26 # Bridle Length |QG| (m)\n",
    "\n",
    "# %% Calculs \n",
    "polar[\"Xcop\"] = (0.25 - polar[\"CM\"]/polar[\"CL\"])* corde\n",
    "polar[\"Xcp\"] = Xg-polar[\"Xcop\"]\n",
    "polar[\"CN\"] = (polar[\"CL\"]*polar[\"CL\"]+ polar[\"CD\"]*polar[\"CD\"])**2\n",
    "\n",
    "delta = delta_deg*np.pi/180 #atan(height / (Xg-Xt))\n",
    "polar[\"sigma\"] = polar[\"Xcp\"] / r "
   ]
  },
  {
   "cell_type": "markdown",
   "metadata": {},
   "source": [
    "## Main"
   ]
  },
  {
   "cell_type": "code",
   "execution_count": 33,
   "metadata": {},
   "outputs": [
    {
     "ename": "AttributeError",
     "evalue": "module 'numpy' has no attribute 'np'",
     "output_type": "error",
     "traceback": [
      "\u001b[0;31m---------------------------------------------------------------------------\u001b[0m",
      "\u001b[0;31mAttributeError\u001b[0m                            Traceback (most recent call last)",
      "Cell \u001b[0;32mIn[33], line 8\u001b[0m\n\u001b[1;32m      5\u001b[0m beta \u001b[38;5;241m=\u001b[39m rho \u001b[38;5;241m*\u001b[39m Surface \u001b[38;5;241m*\u001b[39m W0\u001b[38;5;241m*\u001b[39m\u001b[38;5;241m*\u001b[39m\u001b[38;5;241m2\u001b[39m \u001b[38;5;241m/\u001b[39m (\u001b[38;5;241m2\u001b[39m \u001b[38;5;241m*\u001b[39m mass \u001b[38;5;241m*\u001b[39m g)\n\u001b[1;32m      7\u001b[0m polar[\u001b[38;5;124m\"\u001b[39m\u001b[38;5;124mcos1\u001b[39m\u001b[38;5;124m\"\u001b[39m] \u001b[38;5;241m=\u001b[39m np\u001b[38;5;241m.\u001b[39mcos(delta \u001b[38;5;241m-\u001b[39m polar[\u001b[38;5;124m\"\u001b[39m\u001b[38;5;124malpha\u001b[39m\u001b[38;5;124m\"\u001b[39m]\u001b[38;5;241m*\u001b[39mnp\u001b[38;5;241m.\u001b[39mpi\u001b[38;5;241m/\u001b[39m\u001b[38;5;241m180\u001b[39m)\n\u001b[0;32m----> 8\u001b[0m polar[\u001b[38;5;124m\"\u001b[39m\u001b[38;5;124mcos2\u001b[39m\u001b[38;5;124m\"\u001b[39m] \u001b[38;5;241m=\u001b[39m \u001b[38;5;241m-\u001b[39m beta \u001b[38;5;241m*\u001b[39m (polar[\u001b[38;5;124m\"\u001b[39m\u001b[38;5;124msigma\u001b[39m\u001b[38;5;124m\"\u001b[39m] \u001b[38;5;241m-\u001b[39m \u001b[43mnp\u001b[49m\u001b[38;5;241;43m.\u001b[39;49m\u001b[43mnp\u001b[49m\u001b[38;5;241m.\u001b[39mcos(delta))\u001b[38;5;241m*\u001b[39m polar[\u001b[38;5;124m\"\u001b[39m\u001b[38;5;124mCN\u001b[39m\u001b[38;5;124m\"\u001b[39m]\n\u001b[1;32m     10\u001b[0m polar[\u001b[38;5;124m\"\u001b[39m\u001b[38;5;124msum\u001b[39m\u001b[38;5;124m\"\u001b[39m] \u001b[38;5;241m=\u001b[39m polar[\u001b[38;5;124m\"\u001b[39m\u001b[38;5;124mnp.cos1\u001b[39m\u001b[38;5;124m\"\u001b[39m] \u001b[38;5;241m+\u001b[39m polar[\u001b[38;5;124m\"\u001b[39m\u001b[38;5;124mnp.cos2\u001b[39m\u001b[38;5;124m\"\u001b[39m]\n\u001b[1;32m     12\u001b[0m \u001b[38;5;66;03m# %% Alpha\u001b[39;00m\n",
      "File \u001b[0;32m~/.local/lib/python3.12/site-packages/numpy/__init__.py:414\u001b[0m, in \u001b[0;36m__getattr__\u001b[0;34m(attr)\u001b[0m\n\u001b[1;32m    411\u001b[0m     \u001b[38;5;28;01mimport\u001b[39;00m \u001b[38;5;21;01mnumpy\u001b[39;00m\u001b[38;5;21;01m.\u001b[39;00m\u001b[38;5;21;01mchar\u001b[39;00m \u001b[38;5;28;01mas\u001b[39;00m \u001b[38;5;21;01mchar\u001b[39;00m\n\u001b[1;32m    412\u001b[0m     \u001b[38;5;28;01mreturn\u001b[39;00m char\u001b[38;5;241m.\u001b[39mchararray\n\u001b[0;32m--> 414\u001b[0m \u001b[38;5;28;01mraise\u001b[39;00m \u001b[38;5;167;01mAttributeError\u001b[39;00m(\u001b[38;5;124m\"\u001b[39m\u001b[38;5;124mmodule \u001b[39m\u001b[38;5;132;01m{!r}\u001b[39;00m\u001b[38;5;124m has no attribute \u001b[39m\u001b[38;5;124m\"\u001b[39m\n\u001b[1;32m    415\u001b[0m                      \u001b[38;5;124m\"\u001b[39m\u001b[38;5;132;01m{!r}\u001b[39;00m\u001b[38;5;124m\"\u001b[39m\u001b[38;5;241m.\u001b[39mformat(\u001b[38;5;18m__name__\u001b[39m, attr))\n",
      "\u001b[0;31mAttributeError\u001b[0m: module 'numpy' has no attribute 'np'"
     ]
    }
   ],
   "source": [
    "# %% Input\n",
    "W0 =5 # Wind speed (m/s)\n",
    "\n",
    "# %% Equation 1 \n",
    "beta = rho * Surface * W0**2 / (2 * mass * g)\n",
    "\n",
    "polar[\"cos1\"] = np.cos(delta - polar[\"alpha\"]*np.pi/180)\n",
    "polar[\"cos2\"] = - beta * (polar[\"sigma\"] - np.cos(delta))* polar[\"CN\"]\n",
    "\n",
    "polar[\"sum\"] = polar[\"np.cos1\"] + polar[\"np.cos2\"]\n",
    "\n",
    "# %% Alpha\n",
    "polar_sum = sns.lineplot(data=polar, x=\"alpha\", y=\"sum\")\n",
    "polar_sum.set_title(\"equation1\")\n",
    "polar_sum.set_ylabel('sum')\n",
    "polar_sum.set_xlabel('alpha')\n",
    "plt.show()\n",
    "\n",
    "# %% Polar theta\n",
    "polar[\"cos\"] = np.cos(- beta * (polar[\"sigma\"] - np.cos(delta))*polar[\"CN\"])*180/np.pi\n",
    "polar[\"theta1\"] = delta_deg - polar[\"cos\"]\n",
    "polar[\"theta2\"] = -(delta_deg + polar[\"cos\"] - 180)\n",
    "polar[\"diff1\"] = polar[\"theta1\"] - polar[\"alpha\"]\n",
    "polar[\"diff2 \"]= polar[\"theta2\"] - polar[\"alpha\"]\n",
    "\n",
    "# %% Equation 2 \n",
    "polar[\"gamma\"] = np.atan((beta * polar[\"CN\"] *np.cos(polar[\"alpha\"]*np.pi/180)-1) / (beta * polar[\"CN\"] * np.sin(polar[\"alpha\"]*np.pi/180))  ) *180/np.pi\n",
    "\n",
    "# %% regression de l'élévation en fonction de l'incidence : \n",
    "P = np.polyfit(np.array(polar[\"alpha\"]), polar[\"gamma\"], 1)\n",
    "polar[\"mdl\"] = P[0]*np.array(polar[\"alpha\"]) + P[1]\n",
    "R = np.corrcoef(np.array(polar[\"alpha\"]), polar[\"gamma\"])\n",
    "\n",
    "polar_gamma = sns.lineplot(data=polar, x=\"alpha\", y=\"gamma\", style='*', legend=\"full\")\n",
    "polar_mdl = sns.lineplot(data=polar, x=\"alpha\", y=\"mdl\", style='r')\n",
    "# polar_gamma.set_title('regression linéaire')\n",
    "# polar_gamma.set_ylabel('gamma')\n",
    "# polar_gamma.set_xlabel('alpha')\n",
    "# polar_gamma.legend('données', 'ligne de regression')\n",
    "plt.show()\n",
    "\n",
    "# Coefficients du modèle\n",
    "intercept = P[1]\n",
    "slope = P[0]\n",
    "\n",
    "# R²\n",
    "r_squared = R**2\n",
    "\n",
    "# Afficher les résultats\n",
    "print('Equation: y = #.2f + #.2f*x\\n', intercept, slope)\n",
    "print('R²: #.2f\\n', r_squared)"
   ]
  }
 ],
 "metadata": {
  "kernelspec": {
   "display_name": "Python 3",
   "language": "python",
   "name": "python3"
  },
  "language_info": {
   "codemirror_mode": {
    "name": "ipython",
    "version": 3
   },
   "file_extension": ".py",
   "mimetype": "text/x-python",
   "name": "python",
   "nbconvert_exporter": "python",
   "pygments_lexer": "ipython3",
   "version": "3.12.1"
  }
 },
 "nbformat": 4,
 "nbformat_minor": 2
}
