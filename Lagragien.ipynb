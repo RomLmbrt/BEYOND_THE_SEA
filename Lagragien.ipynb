{
 "cells": [
  {
   "cell_type": "markdown",
   "metadata": {},
   "source": [
    "## Lagragien for Static Balance\n",
    "\n",
    "*Source : Dynamics and Control of Single-Line Kites - Gonzalo Sanchez-Arrlaga*\n",
    "\n",
    "*Goal : Find the Angle of Attack ($\\alpha$) and the Elevation($\\beta$) in Regard of Wind Speed*"
   ]
  },
  {
   "cell_type": "markdown",
   "metadata": {},
   "source": [
    "## Import"
   ]
  },
  {
   "cell_type": "code",
   "execution_count": null,
   "metadata": {},
   "outputs": [],
   "source": [
    "import os\n",
    "import pandas as pd\n",
    "import numpy as np"
   ]
  },
  {
   "cell_type": "markdown",
   "metadata": {},
   "source": [
    "## Data"
   ]
  },
  {
   "cell_type": "code",
   "execution_count": null,
   "metadata": {},
   "outputs": [],
   "source": [
    "# ## Xfoil Polar \n",
    "polar_data = pd.read_csv(\"polaire_SK50VD_modified.csv\") # Same airfoil as 10VB\n",
    "polar = pd.json_normalize({\n",
    "    \"alpha\" : polar_data.alpha,\n",
    "    \"CL\" : polar_data.CL,\n",
    "    \"CD\" : polar_data.CD, \n",
    "    \"CDp\" : polar_data.CDp,\n",
    "    \"CM\" : polar_data.CM,\n",
    "    \"Top_Xtr\" : polar_data.Top_Xtr,\n",
    "    \"Bot_Xtr\" : polar_data.Bot_Xtr,\n",
    "})\n",
    "\n",
    "# ## Air\n",
    "g = 9.8 \n",
    "rho = 1.225\n",
    "\n",
    "# ## Kite\n",
    "Surface = 10 # (m2)\n",
    "mass = 5.5 # (kg)\n",
    "height = 2.2 # distance from towpoint to profile (m)\n",
    "corde = 1.99 # (m)\n",
    "Xt = 0.3* corde # towpoint (m)\n",
    "Xg = 0.5 * corde  # mass center (m)\n",
    "delta_deg = 83 # Bridle Angle (°)\n",
    "r = 2.26 # Bridle Length |QG| (m)"
   ]
  },
  {
   "cell_type": "markdown",
   "metadata": {},
   "source": [
    "## Main"
   ]
  },
  {
   "cell_type": "code",
   "execution_count": null,
   "metadata": {},
   "outputs": [],
   "source": []
  }
 ],
 "metadata": {
  "language_info": {
   "name": "python"
  }
 },
 "nbformat": 4,
 "nbformat_minor": 2
}
